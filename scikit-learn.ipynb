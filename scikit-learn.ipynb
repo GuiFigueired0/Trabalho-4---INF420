{
 "cells": [
  {
   "cell_type": "code",
   "execution_count": 1,
   "metadata": {},
   "outputs": [],
   "source": [
    "import time\n",
    "import random\n",
    "import numpy as np\n",
    "import pandas as pd"
   ]
  },
  {
   "cell_type": "code",
   "execution_count": 2,
   "metadata": {},
   "outputs": [],
   "source": [
    "from sklearn.model_selection import StratifiedKFold\n",
    "from sklearn.naive_bayes import GaussianNB\n",
    "from sklearn.tree import DecisionTreeClassifier\n",
    "from sklearn.metrics import accuracy_score"
   ]
  },
  {
   "cell_type": "code",
   "execution_count": 3,
   "metadata": {},
   "outputs": [],
   "source": [
    "raw_csv_data = pd.read_csv('koi_data.csv') \n",
    "df = raw_csv_data.copy() "
   ]
  },
  {
   "cell_type": "code",
   "execution_count": 4,
   "metadata": {},
   "outputs": [
    {
     "data": {
      "text/html": [
       "<div>\n",
       "<style scoped>\n",
       "    .dataframe tbody tr th:only-of-type {\n",
       "        vertical-align: middle;\n",
       "    }\n",
       "\n",
       "    .dataframe tbody tr th {\n",
       "        vertical-align: top;\n",
       "    }\n",
       "\n",
       "    .dataframe thead th {\n",
       "        text-align: right;\n",
       "    }\n",
       "</style>\n",
       "<table border=\"1\" class=\"dataframe\">\n",
       "  <thead>\n",
       "    <tr style=\"text-align: right;\">\n",
       "      <th></th>\n",
       "      <th>kepoi_name</th>\n",
       "      <th>koi_disposition</th>\n",
       "      <th>koi_period</th>\n",
       "      <th>koi_impact</th>\n",
       "      <th>koi_duration</th>\n",
       "      <th>koi_depth</th>\n",
       "      <th>koi_ror</th>\n",
       "      <th>koi_srho</th>\n",
       "      <th>koi_prad</th>\n",
       "      <th>koi_sma</th>\n",
       "      <th>...</th>\n",
       "      <th>koi_fwm_srao</th>\n",
       "      <th>koi_fwm_sdeco</th>\n",
       "      <th>koi_fwm_prao</th>\n",
       "      <th>koi_fwm_pdeco</th>\n",
       "      <th>koi_dicco_mra</th>\n",
       "      <th>koi_dicco_mdec</th>\n",
       "      <th>koi_dicco_msky</th>\n",
       "      <th>koi_dikco_mra</th>\n",
       "      <th>koi_dikco_mdec</th>\n",
       "      <th>koi_dikco_msky</th>\n",
       "    </tr>\n",
       "  </thead>\n",
       "  <tbody>\n",
       "    <tr>\n",
       "      <th>0</th>\n",
       "      <td>K00752.01</td>\n",
       "      <td>CONFIRMED</td>\n",
       "      <td>9.48804</td>\n",
       "      <td>0.146</td>\n",
       "      <td>2.95750</td>\n",
       "      <td>615.8</td>\n",
       "      <td>0.02234</td>\n",
       "      <td>3.20796</td>\n",
       "      <td>2.26</td>\n",
       "      <td>0.0853</td>\n",
       "      <td>...</td>\n",
       "      <td>0.430</td>\n",
       "      <td>0.940</td>\n",
       "      <td>-0.00020</td>\n",
       "      <td>-0.00055</td>\n",
       "      <td>-0.010</td>\n",
       "      <td>0.200</td>\n",
       "      <td>0.200</td>\n",
       "      <td>0.080</td>\n",
       "      <td>0.310</td>\n",
       "      <td>0.320</td>\n",
       "    </tr>\n",
       "    <tr>\n",
       "      <th>1</th>\n",
       "      <td>K00752.02</td>\n",
       "      <td>CONFIRMED</td>\n",
       "      <td>54.41838</td>\n",
       "      <td>0.586</td>\n",
       "      <td>4.50700</td>\n",
       "      <td>874.8</td>\n",
       "      <td>0.02795</td>\n",
       "      <td>3.02368</td>\n",
       "      <td>2.83</td>\n",
       "      <td>0.2734</td>\n",
       "      <td>...</td>\n",
       "      <td>-0.630</td>\n",
       "      <td>1.230</td>\n",
       "      <td>0.00066</td>\n",
       "      <td>-0.00105</td>\n",
       "      <td>0.390</td>\n",
       "      <td>0.000</td>\n",
       "      <td>0.390</td>\n",
       "      <td>0.490</td>\n",
       "      <td>0.120</td>\n",
       "      <td>0.500</td>\n",
       "    </tr>\n",
       "    <tr>\n",
       "      <th>2</th>\n",
       "      <td>K00754.01</td>\n",
       "      <td>FALSE POSITIVE</td>\n",
       "      <td>1.73695</td>\n",
       "      <td>1.276</td>\n",
       "      <td>2.40641</td>\n",
       "      <td>8079.2</td>\n",
       "      <td>0.38739</td>\n",
       "      <td>0.22080</td>\n",
       "      <td>33.46</td>\n",
       "      <td>0.0267</td>\n",
       "      <td>...</td>\n",
       "      <td>-0.111</td>\n",
       "      <td>0.002</td>\n",
       "      <td>0.00302</td>\n",
       "      <td>-0.00142</td>\n",
       "      <td>-0.249</td>\n",
       "      <td>0.147</td>\n",
       "      <td>0.289</td>\n",
       "      <td>-0.257</td>\n",
       "      <td>0.099</td>\n",
       "      <td>0.276</td>\n",
       "    </tr>\n",
       "    <tr>\n",
       "      <th>3</th>\n",
       "      <td>K00755.01</td>\n",
       "      <td>CONFIRMED</td>\n",
       "      <td>2.52559</td>\n",
       "      <td>0.701</td>\n",
       "      <td>1.65450</td>\n",
       "      <td>603.3</td>\n",
       "      <td>0.02406</td>\n",
       "      <td>1.98635</td>\n",
       "      <td>2.75</td>\n",
       "      <td>0.0374</td>\n",
       "      <td>...</td>\n",
       "      <td>-0.010</td>\n",
       "      <td>0.230</td>\n",
       "      <td>0.00008</td>\n",
       "      <td>-0.00007</td>\n",
       "      <td>0.030</td>\n",
       "      <td>-0.090</td>\n",
       "      <td>0.100</td>\n",
       "      <td>0.070</td>\n",
       "      <td>0.020</td>\n",
       "      <td>0.070</td>\n",
       "    </tr>\n",
       "    <tr>\n",
       "      <th>4</th>\n",
       "      <td>K00114.01</td>\n",
       "      <td>FALSE POSITIVE</td>\n",
       "      <td>7.36179</td>\n",
       "      <td>1.169</td>\n",
       "      <td>5.02200</td>\n",
       "      <td>233.7</td>\n",
       "      <td>0.18339</td>\n",
       "      <td>0.00485</td>\n",
       "      <td>39.21</td>\n",
       "      <td>0.0820</td>\n",
       "      <td>...</td>\n",
       "      <td>-13.450</td>\n",
       "      <td>24.090</td>\n",
       "      <td>0.00303</td>\n",
       "      <td>-0.00555</td>\n",
       "      <td>-4.506</td>\n",
       "      <td>7.710</td>\n",
       "      <td>8.930</td>\n",
       "      <td>-4.537</td>\n",
       "      <td>7.713</td>\n",
       "      <td>8.948</td>\n",
       "    </tr>\n",
       "  </tbody>\n",
       "</table>\n",
       "<p>5 rows × 43 columns</p>\n",
       "</div>"
      ],
      "text/plain": [
       "  kepoi_name koi_disposition  koi_period  koi_impact  koi_duration  koi_depth  \\\n",
       "0  K00752.01       CONFIRMED     9.48804       0.146       2.95750      615.8   \n",
       "1  K00752.02       CONFIRMED    54.41838       0.586       4.50700      874.8   \n",
       "2  K00754.01  FALSE POSITIVE     1.73695       1.276       2.40641     8079.2   \n",
       "3  K00755.01       CONFIRMED     2.52559       0.701       1.65450      603.3   \n",
       "4  K00114.01  FALSE POSITIVE     7.36179       1.169       5.02200      233.7   \n",
       "\n",
       "   koi_ror  koi_srho  koi_prad  koi_sma  ...  koi_fwm_srao  koi_fwm_sdeco  \\\n",
       "0  0.02234   3.20796      2.26   0.0853  ...         0.430          0.940   \n",
       "1  0.02795   3.02368      2.83   0.2734  ...        -0.630          1.230   \n",
       "2  0.38739   0.22080     33.46   0.0267  ...        -0.111          0.002   \n",
       "3  0.02406   1.98635      2.75   0.0374  ...        -0.010          0.230   \n",
       "4  0.18339   0.00485     39.21   0.0820  ...       -13.450         24.090   \n",
       "\n",
       "   koi_fwm_prao  koi_fwm_pdeco  koi_dicco_mra  koi_dicco_mdec  koi_dicco_msky  \\\n",
       "0      -0.00020       -0.00055         -0.010           0.200           0.200   \n",
       "1       0.00066       -0.00105          0.390           0.000           0.390   \n",
       "2       0.00302       -0.00142         -0.249           0.147           0.289   \n",
       "3       0.00008       -0.00007          0.030          -0.090           0.100   \n",
       "4       0.00303       -0.00555         -4.506           7.710           8.930   \n",
       "\n",
       "   koi_dikco_mra  koi_dikco_mdec  koi_dikco_msky  \n",
       "0          0.080           0.310           0.320  \n",
       "1          0.490           0.120           0.500  \n",
       "2         -0.257           0.099           0.276  \n",
       "3          0.070           0.020           0.070  \n",
       "4         -4.537           7.713           8.948  \n",
       "\n",
       "[5 rows x 43 columns]"
      ]
     },
     "execution_count": 4,
     "metadata": {},
     "output_type": "execute_result"
    }
   ],
   "source": [
    "df.head()"
   ]
  },
  {
   "cell_type": "code",
   "execution_count": 5,
   "metadata": {},
   "outputs": [
    {
     "data": {
      "text/html": [
       "<div>\n",
       "<style scoped>\n",
       "    .dataframe tbody tr th:only-of-type {\n",
       "        vertical-align: middle;\n",
       "    }\n",
       "\n",
       "    .dataframe tbody tr th {\n",
       "        vertical-align: top;\n",
       "    }\n",
       "\n",
       "    .dataframe thead th {\n",
       "        text-align: right;\n",
       "    }\n",
       "</style>\n",
       "<table border=\"1\" class=\"dataframe\">\n",
       "  <thead>\n",
       "    <tr style=\"text-align: right;\">\n",
       "      <th></th>\n",
       "      <th>kepoi_name</th>\n",
       "    </tr>\n",
       "    <tr>\n",
       "      <th>koi_disposition</th>\n",
       "      <th></th>\n",
       "    </tr>\n",
       "  </thead>\n",
       "  <tbody>\n",
       "    <tr>\n",
       "      <th>CONFIRMED</th>\n",
       "      <td>2104</td>\n",
       "    </tr>\n",
       "    <tr>\n",
       "      <th>FALSE POSITIVE</th>\n",
       "      <td>3098</td>\n",
       "    </tr>\n",
       "  </tbody>\n",
       "</table>\n",
       "</div>"
      ],
      "text/plain": [
       "                 kepoi_name\n",
       "koi_disposition            \n",
       "CONFIRMED              2104\n",
       "FALSE POSITIVE         3098"
      ]
     },
     "metadata": {},
     "output_type": "display_data"
    }
   ],
   "source": [
    "display(df.groupby('koi_disposition').count().loc[:,['kepoi_name']])"
   ]
  },
  {
   "cell_type": "code",
   "execution_count": 6,
   "metadata": {},
   "outputs": [
    {
     "data": {
      "text/plain": [
       "(5202, 42)"
      ]
     },
     "execution_count": 6,
     "metadata": {},
     "output_type": "execute_result"
    }
   ],
   "source": [
    "df.set_index('kepoi_name', inplace=True)\n",
    "df.shape"
   ]
  },
  {
   "cell_type": "code",
   "execution_count": 7,
   "metadata": {},
   "outputs": [
    {
     "name": "stdout",
     "output_type": "stream",
     "text": [
      "(5202, 41) (5202,)\n"
     ]
    }
   ],
   "source": [
    "y = df.koi_disposition.values\n",
    "df.drop('koi_disposition', axis=1, inplace=True)\n",
    "X = df.values\n",
    "print(X.shape, y.shape)"
   ]
  },
  {
   "cell_type": "code",
   "execution_count": 8,
   "metadata": {},
   "outputs": [],
   "source": [
    "def run_classifier(clf, X_train, X_test, y_train, y_test):\n",
    "    clf.fit(X_train, y_train) \n",
    "    y_pred = clf.predict(X_test)\n",
    "    accuracy = accuracy_score(y_test, y_pred)\n",
    "    return accuracy"
   ]
  },
  {
   "cell_type": "code",
   "execution_count": 11,
   "metadata": {},
   "outputs": [
    {
     "name": "stdout",
     "output_type": "stream",
     "text": [
      "Acurácia Média GNB: 0.79815\n",
      "Acurácia Média DT: 0.94483\n"
     ]
    }
   ],
   "source": [
    "accuracies_gnb = []\n",
    "accuracies_dt = []\n",
    "cv = StratifiedKFold(n_splits=5, shuffle=True, random_state=42)\n",
    "for train_index, test_index in cv.split(X, y):\n",
    "    X_train, X_test = X[train_index], X[test_index]\n",
    "    y_train, y_test = y[train_index], y[test_index]\n",
    "    \n",
    "    gnb = GaussianNB()\n",
    "    accuracies_gnb.append(run_classifier(gnb, X_train, X_test, y_train, y_test))\n",
    "    \n",
    "    dt = DecisionTreeClassifier(random_state=42)\n",
    "    accuracies_dt.append(run_classifier(dt, X_train, X_test, y_train, y_test))\n",
    "\n",
    "print(f'Acurácia Média GNB: {sum(accuracies_gnb) / len(accuracies_gnb):.5f}')\n",
    "print(f'Acurácia Média DT: {sum(accuracies_dt) / len(accuracies_dt):.5f}')"
   ]
  }
 ],
 "metadata": {
  "kernelspec": {
   "display_name": "venv",
   "language": "python",
   "name": "python3"
  },
  "language_info": {
   "codemirror_mode": {
    "name": "ipython",
    "version": 3
   },
   "file_extension": ".py",
   "mimetype": "text/x-python",
   "name": "python",
   "nbconvert_exporter": "python",
   "pygments_lexer": "ipython3",
   "version": "3.12.4"
  }
 },
 "nbformat": 4,
 "nbformat_minor": 2
}
